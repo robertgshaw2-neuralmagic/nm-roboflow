{
 "cells": [
  {
   "cell_type": "code",
   "execution_count": 46,
   "id": "08237e50",
   "metadata": {},
   "outputs": [
    {
     "name": "stdout",
     "output_type": "stream",
     "text": [
      "21\n"
     ]
    }
   ],
   "source": [
    "import requests, json\n",
    "\n",
    "import os, random\n",
    "path = \"/home/robertgshaw/dev/nm-roboflow/data/test/images/\"\n",
    "path += random.choice(os.listdir(path))\n",
    "\n",
    "resp = requests.post(\n",
    "  url=\"http://localhost:5543/predict/from_files\",\n",
    "  files=[('request', open(path, 'rb'))]\n",
    ")\n",
    "\n",
    "resp_dict = json.loads(resp.text)\n",
    "\n",
    "print(len(resp_dict[\"boxes\"][0]))"
   ]
  },
  {
   "cell_type": "code",
   "execution_count": null,
   "id": "d5c50b5d",
   "metadata": {},
   "outputs": [],
   "source": []
  }
 ],
 "metadata": {
  "kernelspec": {
   "display_name": "Python 3 (ipykernel)",
   "language": "python",
   "name": "python3"
  },
  "language_info": {
   "codemirror_mode": {
    "name": "ipython",
    "version": 3
   },
   "file_extension": ".py",
   "mimetype": "text/x-python",
   "name": "python",
   "nbconvert_exporter": "python",
   "pygments_lexer": "ipython3",
   "version": "3.8.10"
  }
 },
 "nbformat": 4,
 "nbformat_minor": 5
}
