{
 "cells": [
  {
   "cell_type": "code",
   "execution_count": 46,
   "id": "9cf19f89",
   "metadata": {},
   "outputs": [
    {
     "name": "stdout",
     "output_type": "stream",
     "text": [
      "21\n"
     ]
    }
   ],
   "source": [
    "import requests, json\n",
    "\n",
    "import os, random\n",
    "path = \"/home/robertgshaw/dev/nm-roboflow/data/test/images/\"\n",
    "path += random.choice(os.listdir(path))\n",
    "\n",
    "resp = requests.post(\n",
    "  url=\"http://localhost:5543/predict/from_files\",\n",
    "  files=[('request', open(path, 'rb'))]\n",
    ")\n",
    "\n",
    "resp_dict = json.loads(resp.text)\n",
    "\n",
    "print(len(resp_dict[\"boxes\"][0]))"
   ]
  }
 ],
 "metadata": {
  "kernelspec": {
   "display_name": "Python 3 (ipykernel)",
   "language": "python",
   "name": "python3"
  },
  "language_info": {
   "codemirror_mode": {
    "name": "ipython",
    "version": 3
   },
   "file_extension": ".py",
   "mimetype": "text/x-python",
   "name": "python",
   "nbconvert_exporter": "python",
   "pygments_lexer": "ipython3",
   "version": "3.8.10"
  }
 },
 "nbformat": 4,
 "nbformat_minor": 5
}
